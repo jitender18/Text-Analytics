{
 "cells": [
  {
   "cell_type": "code",
   "execution_count": 15,
   "metadata": {},
   "outputs": [],
   "source": [
    "# Building a web scraper\n",
    "\n",
    "# Download chromedriver webdriver:\n",
    "# http://chromedriver.chromium.org/downloads\n",
    "# download the latest version from this link\n",
    "\n",
    "# You can also use firefox or phantomJS, chromedriver has the best developer tools\n",
    "# Extract the downloaded file on your local machine"
   ]
  },
  {
   "cell_type": "code",
   "execution_count": 1,
   "metadata": {},
   "outputs": [
    {
     "name": "stdout",
     "output_type": "stream",
     "text": [
      "Collecting selenium\n",
      "\u001b[?25l  Downloading https://files.pythonhosted.org/packages/b8/53/9cafbb616d20c7624ff31bcabd82e5cc9823206267664e68aa8acdde4629/selenium-3.14.0-py2.py3-none-any.whl (898kB)\n",
      "\u001b[K    100% |████████████████████████████████| 901kB 7.1MB/s eta 0:00:01\n",
      "\u001b[?25hRequirement already satisfied: urllib3 in /Users/jitu/anaconda3/lib/python3.6/site-packages (from selenium) (1.22)\n",
      "Installing collected packages: selenium\n",
      "Successfully installed selenium-3.14.0\n"
     ]
    }
   ],
   "source": [
    "# Install selenium using pip or conda\n",
    "#!pip install selenium"
   ]
  },
  {
   "cell_type": "code",
   "execution_count": 64,
   "metadata": {},
   "outputs": [],
   "source": [
    "import pandas as pd\n",
    "import numpy as np"
   ]
  },
  {
   "cell_type": "code",
   "execution_count": 1,
   "metadata": {},
   "outputs": [],
   "source": [
    "# Import webdriver from selenium\n",
    "from selenium import webdriver\n",
    "chrome_path = '/Users/jitu/Documents/Fall/UGC/chromedriver'\n",
    "#Users⁩ ▸ ⁨jitu⁩ ▸ ⁨Documents⁩ ▸ ⁨Fall⁩ ▸ ⁨UGC⁩\n",
    "# prepend it with r because of the backslash characters"
   ]
  },
  {
   "cell_type": "code",
   "execution_count": 2,
   "metadata": {},
   "outputs": [
    {
     "data": {
      "text/plain": [
       "'/Users/jitu/Documents/Fall/UGC/Jasleen/Text-Analytics'"
      ]
     },
     "execution_count": 2,
     "metadata": {},
     "output_type": "execute_result"
    }
   ],
   "source": [
    "pwd"
   ]
  },
  {
   "cell_type": "code",
   "execution_count": 3,
   "metadata": {},
   "outputs": [],
   "source": [
    "driver = webdriver.Chrome(chrome_path)  # This will open up a chrome window"
   ]
  },
  {
   "cell_type": "code",
   "execution_count": 4,
   "metadata": {},
   "outputs": [],
   "source": [
    "# Take a website that you want to scrape\n",
    "driver.get(\"https://www.iplt20.com/\")  # It will send you to that website"
   ]
  },
  {
   "cell_type": "code",
   "execution_count": 5,
   "metadata": {},
   "outputs": [],
   "source": [
    "# Now write click on the element that you want to search and click on inspect.\n",
    "# It will open the developer tools\n",
    "\n",
    "# right-click on the html element and copy xpath\n",
    "driver.find_element_by_xpath(\"\"\"/html/body/header/div[1]/div/nav/div[1]/div/ul/li[6]/a\"\"\").click()"
   ]
  },
  {
   "cell_type": "code",
   "execution_count": 6,
   "metadata": {},
   "outputs": [],
   "source": [
    "driver.find_element_by_xpath(\"\"\"//*[@id=\"main-content\"]/div[2]/aside/nav/ul/li[1]/ul/li[1]/a\"\"\").click()"
   ]
  },
  {
   "cell_type": "code",
   "execution_count": 7,
   "metadata": {},
   "outputs": [],
   "source": [
    "posts = driver.find_elements_by_class_name('top-players__player-link')"
   ]
  },
  {
   "cell_type": "code",
   "execution_count": 20,
   "metadata": {},
   "outputs": [],
   "source": [
    "most_runs_name = []\n",
    "count = 0\n",
    "for post in posts:\n",
    "    most_runs_name.append(post.text)"
   ]
  },
  {
   "cell_type": "code",
   "execution_count": 22,
   "metadata": {},
   "outputs": [],
   "source": [
    "#most_runs_name"
   ]
  },
  {
   "cell_type": "code",
   "execution_count": 27,
   "metadata": {},
   "outputs": [],
   "source": [
    "runs = driver.find_elements_by_class_name('top-players__r')"
   ]
  },
  {
   "cell_type": "code",
   "execution_count": 28,
   "metadata": {},
   "outputs": [],
   "source": [
    "most_runs = []\n",
    "\n",
    "for run in runs:\n",
    "    most_runs.append(run.text)"
   ]
  },
  {
   "cell_type": "code",
   "execution_count": 33,
   "metadata": {},
   "outputs": [],
   "source": [
    "#most_runs"
   ]
  },
  {
   "cell_type": "code",
   "execution_count": 34,
   "metadata": {},
   "outputs": [],
   "source": [
    "most_runs_matches = driver.find_elements_by_class_name('top-players__m')\n",
    "matches = []\n",
    "\n",
    "for match in most_runs_matches:\n",
    "    matches.append(match.text)"
   ]
  },
  {
   "cell_type": "code",
   "execution_count": 40,
   "metadata": {},
   "outputs": [],
   "source": [
    "\n",
    "most_runs_SR = driver.find_elements_by_class_name('top-players__sr')\n",
    "strike_rate = []\n",
    "\n",
    "for sr in most_runs_SR:\n",
    "    strike_rate.append(sr.text)"
   ]
  },
  {
   "cell_type": "code",
   "execution_count": 44,
   "metadata": {},
   "outputs": [],
   "source": [
    "\n",
    "most_runs_Avg = driver.find_elements_by_class_name('top-players__a')\n",
    "average = []\n",
    "\n",
    "for avg in most_runs_Avg:\n",
    "    average.append(avg.text)"
   ]
  },
  {
   "cell_type": "code",
   "execution_count": 49,
   "metadata": {},
   "outputs": [],
   "source": [
    "\n",
    "most_runs_100s = driver.find_elements_by_class_name('top-players__100s')\n",
    "centuries = []\n",
    "\n",
    "for cent in most_runs_100s:\n",
    "    centuries.append(cent.text)"
   ]
  },
  {
   "cell_type": "code",
   "execution_count": 53,
   "metadata": {},
   "outputs": [],
   "source": [
    "\n",
    "most_runs_50s = driver.find_elements_by_class_name('top-players__50s')\n",
    "half_centuries = []\n",
    "\n",
    "for half_cent in most_runs_50s:\n",
    "    half_centuries.append(half_cent.text)"
   ]
  },
  {
   "cell_type": "code",
   "execution_count": 58,
   "metadata": {},
   "outputs": [],
   "source": [
    "most_runs_4s = driver.find_elements_by_class_name('top-players__4s')\n",
    "boundaries = []\n",
    "\n",
    "for fours in most_runs_4s:\n",
    "    boundaries.append(fours.text)"
   ]
  },
  {
   "cell_type": "code",
   "execution_count": 61,
   "metadata": {},
   "outputs": [],
   "source": [
    "most_runs_6s = driver.find_elements_by_class_name('top-players__6s')\n",
    "biggies = []\n",
    "\n",
    "for sixs in most_runs_6s:\n",
    "    biggies.append(sixs.text)"
   ]
  },
  {
   "cell_type": "code",
   "execution_count": 65,
   "metadata": {},
   "outputs": [],
   "source": [
    "most_runs_details = pd.DataFrame(columns=['Player', 'Matches', 'Runs', 'Average', 'S/R', '100s', '50s', '4s', '6s'])"
   ]
  },
  {
   "cell_type": "code",
   "execution_count": 66,
   "metadata": {},
   "outputs": [],
   "source": [
    "most_runs_details['Player'] = most_runs_name\n",
    "most_runs_details['Matches'] = matches\n",
    "most_runs_details['Runs'] = most_runs\n",
    "most_runs_details['Average'] = average\n",
    "most_runs_details['S/R'] = strike_rate\n",
    "most_runs_details['100s'] = centuries\n",
    "most_runs_details['50s'] = half_centuries\n",
    "most_runs_details['4s'] = boundaries\n",
    "most_runs_details['6s'] = biggies"
   ]
  },
  {
   "cell_type": "code",
   "execution_count": 115,
   "metadata": {},
   "outputs": [
    {
     "data": {
      "text/html": [
       "<div>\n",
       "<style scoped>\n",
       "    .dataframe tbody tr th:only-of-type {\n",
       "        vertical-align: middle;\n",
       "    }\n",
       "\n",
       "    .dataframe tbody tr th {\n",
       "        vertical-align: top;\n",
       "    }\n",
       "\n",
       "    .dataframe thead th {\n",
       "        text-align: right;\n",
       "    }\n",
       "</style>\n",
       "<table border=\"1\" class=\"dataframe\">\n",
       "  <thead>\n",
       "    <tr style=\"text-align: right;\">\n",
       "      <th></th>\n",
       "      <th>Player</th>\n",
       "      <th>Matches</th>\n",
       "      <th>Runs</th>\n",
       "      <th>Average</th>\n",
       "      <th>S/R</th>\n",
       "      <th>100s</th>\n",
       "      <th>50s</th>\n",
       "      <th>4s</th>\n",
       "      <th>6s</th>\n",
       "    </tr>\n",
       "  </thead>\n",
       "  <tbody>\n",
       "    <tr>\n",
       "      <th>0</th>\n",
       "      <td>Kane\\nWilliamson</td>\n",
       "      <td>17</td>\n",
       "      <td>735</td>\n",
       "      <td>52.50</td>\n",
       "      <td>142.44</td>\n",
       "      <td>0</td>\n",
       "      <td>8</td>\n",
       "      <td>64</td>\n",
       "      <td>28</td>\n",
       "    </tr>\n",
       "    <tr>\n",
       "      <th>1</th>\n",
       "      <td>Rishabh Pant</td>\n",
       "      <td>14</td>\n",
       "      <td>684</td>\n",
       "      <td>52.61</td>\n",
       "      <td>173.60</td>\n",
       "      <td>1</td>\n",
       "      <td>5</td>\n",
       "      <td>68</td>\n",
       "      <td>37</td>\n",
       "    </tr>\n",
       "    <tr>\n",
       "      <th>2</th>\n",
       "      <td>Lokesh Rahul</td>\n",
       "      <td>14</td>\n",
       "      <td>659</td>\n",
       "      <td>54.91</td>\n",
       "      <td>158.41</td>\n",
       "      <td>0</td>\n",
       "      <td>6</td>\n",
       "      <td>66</td>\n",
       "      <td>32</td>\n",
       "    </tr>\n",
       "    <tr>\n",
       "      <th>3</th>\n",
       "      <td>Ambati Rayudu</td>\n",
       "      <td>16</td>\n",
       "      <td>602</td>\n",
       "      <td>43.00</td>\n",
       "      <td>149.75</td>\n",
       "      <td>1</td>\n",
       "      <td>3</td>\n",
       "      <td>53</td>\n",
       "      <td>34</td>\n",
       "    </tr>\n",
       "    <tr>\n",
       "      <th>4</th>\n",
       "      <td>Shane Watson</td>\n",
       "      <td>15</td>\n",
       "      <td>555</td>\n",
       "      <td>39.64</td>\n",
       "      <td>154.59</td>\n",
       "      <td>2</td>\n",
       "      <td>2</td>\n",
       "      <td>44</td>\n",
       "      <td>35</td>\n",
       "    </tr>\n",
       "  </tbody>\n",
       "</table>\n",
       "</div>"
      ],
      "text/plain": [
       "             Player Matches Runs Average     S/R 100s 50s  4s  6s\n",
       "0  Kane\\nWilliamson      17  735   52.50  142.44    0   8  64  28\n",
       "1      Rishabh Pant      14  684   52.61  173.60    1   5  68  37\n",
       "2      Lokesh Rahul      14  659   54.91  158.41    0   6  66  32\n",
       "3     Ambati Rayudu      16  602   43.00  149.75    1   3  53  34\n",
       "4      Shane Watson      15  555   39.64  154.59    2   2  44  35"
      ]
     },
     "execution_count": 115,
     "metadata": {},
     "output_type": "execute_result"
    }
   ],
   "source": [
    "most_runs_details.head(5)"
   ]
  },
  {
   "cell_type": "code",
   "execution_count": 114,
   "metadata": {},
   "outputs": [],
   "source": [
    "most_runs_details.to_csv('most_runs_details.csv', sep=',')"
   ]
  },
  {
   "cell_type": "code",
   "execution_count": 69,
   "metadata": {},
   "outputs": [],
   "source": [
    "driver.find_element_by_xpath(\"\"\"//*[@id=\"main-content\"]/div[2]/aside/nav/ul/li[2]/ul/li[1]/a\"\"\").click()\n"
   ]
  },
  {
   "cell_type": "code",
   "execution_count": 73,
   "metadata": {},
   "outputs": [],
   "source": [
    "most_wickets_players = driver.find_elements_by_class_name('top-players__player-link')\n",
    "wicket_players = []\n",
    "\n",
    "for player in most_wickets_players:\n",
    "    wicket_players.append(player.text)"
   ]
  },
  {
   "cell_type": "code",
   "execution_count": 76,
   "metadata": {},
   "outputs": [],
   "source": [
    "most_wickets_matches = driver.find_elements_by_class_name('top-players__m')\n",
    "wicket_players_matches = []\n",
    "\n",
    "for player in most_wickets_matches:\n",
    "    wicket_players_matches.append(player.text)"
   ]
  },
  {
   "cell_type": "code",
   "execution_count": 80,
   "metadata": {},
   "outputs": [],
   "source": [
    "most_wickets_overs = driver.find_elements_by_class_name('top-players__ov')\n",
    "wicket_players_overs = []\n",
    "\n",
    "for overs in most_wickets_overs:\n",
    "    wicket_players_overs.append(overs.text)"
   ]
  },
  {
   "cell_type": "code",
   "execution_count": 84,
   "metadata": {},
   "outputs": [],
   "source": [
    "most_wickets_runs = driver.find_elements_by_class_name('top-players__r')\n",
    "wicket_players_runs = []\n",
    "\n",
    "for runs in most_wickets_runs:\n",
    "    wicket_players_runs.append(runs.text)"
   ]
  },
  {
   "cell_type": "code",
   "execution_count": 88,
   "metadata": {},
   "outputs": [],
   "source": [
    "most_wickets_w = driver.find_elements_by_class_name('top-players__w')\n",
    "most_wickets = []\n",
    "\n",
    "for wickets in most_wickets_w:\n",
    "    most_wickets.append(wickets.text)"
   ]
  },
  {
   "cell_type": "code",
   "execution_count": 92,
   "metadata": {},
   "outputs": [],
   "source": [
    "most_wickets_average = driver.find_elements_by_class_name('top-players__a')\n",
    "wicket_players_average = []\n",
    "\n",
    "for avg in most_wickets_average:\n",
    "    wicket_players_average.append(avg.text)"
   ]
  },
  {
   "cell_type": "code",
   "execution_count": 95,
   "metadata": {},
   "outputs": [],
   "source": [
    "most_wickets_economy = driver.find_elements_by_class_name('top-players__e')\n",
    "wicket_players_economy = []\n",
    "\n",
    "for economy in most_wickets_economy:\n",
    "    wicket_players_economy.append(economy.text)"
   ]
  },
  {
   "cell_type": "code",
   "execution_count": 98,
   "metadata": {},
   "outputs": [],
   "source": [
    "most_wickets_SR = driver.find_elements_by_class_name('top-players__sr')\n",
    "wicket_players_SR = []\n",
    "\n",
    "for sr in most_wickets_SR:\n",
    "    wicket_players_SR.append(sr.text)"
   ]
  },
  {
   "cell_type": "code",
   "execution_count": 101,
   "metadata": {},
   "outputs": [],
   "source": [
    "most_wickets_4w = driver.find_elements_by_class_name('top-players__4w')\n",
    "wicket_players_4w = []\n",
    "\n",
    "for four in most_wickets_4w:\n",
    "    wicket_players_4w.append(four.text)"
   ]
  },
  {
   "cell_type": "code",
   "execution_count": 105,
   "metadata": {},
   "outputs": [],
   "source": [
    "most_wickets_5w = driver.find_elements_by_class_name('top-players__5w')\n",
    "wicket_players_5w = []\n",
    "\n",
    "for five in most_wickets_5w:\n",
    "    wicket_players_5w.append(five.text)"
   ]
  },
  {
   "cell_type": "code",
   "execution_count": 109,
   "metadata": {},
   "outputs": [],
   "source": [
    "most_wickets_details = pd.DataFrame(columns=['Player', 'Matches', 'Overs', 'Runs', 'Wickets', 'Average', 'Economy', 'S/R', '4w', '5w'])"
   ]
  },
  {
   "cell_type": "code",
   "execution_count": 110,
   "metadata": {},
   "outputs": [],
   "source": [
    "most_wickets_details['Player'] = wicket_players\n",
    "most_wickets_details['Matches'] = wicket_players_matches\n",
    "most_wickets_details['Overs'] = wicket_players_overs\n",
    "most_wickets_details['Runs'] = wicket_players_runs\n",
    "most_wickets_details['Wickets'] = most_wickets\n",
    "most_wickets_details['Average'] = wicket_players_average\n",
    "most_wickets_details['Economy'] = wicket_players_economy\n",
    "most_wickets_details['S/R'] = wicket_players_SR\n",
    "most_wickets_details['4w'] = wicket_players_4w\n",
    "most_wickets_details['5w'] = wicket_players_5w"
   ]
  },
  {
   "cell_type": "code",
   "execution_count": 116,
   "metadata": {},
   "outputs": [
    {
     "data": {
      "text/html": [
       "<div>\n",
       "<style scoped>\n",
       "    .dataframe tbody tr th:only-of-type {\n",
       "        vertical-align: middle;\n",
       "    }\n",
       "\n",
       "    .dataframe tbody tr th {\n",
       "        vertical-align: top;\n",
       "    }\n",
       "\n",
       "    .dataframe thead th {\n",
       "        text-align: right;\n",
       "    }\n",
       "</style>\n",
       "<table border=\"1\" class=\"dataframe\">\n",
       "  <thead>\n",
       "    <tr style=\"text-align: right;\">\n",
       "      <th></th>\n",
       "      <th>Player</th>\n",
       "      <th>Matches</th>\n",
       "      <th>Overs</th>\n",
       "      <th>Runs</th>\n",
       "      <th>Wickets</th>\n",
       "      <th>Average</th>\n",
       "      <th>Economy</th>\n",
       "      <th>S/R</th>\n",
       "      <th>4w</th>\n",
       "      <th>5w</th>\n",
       "    </tr>\n",
       "  </thead>\n",
       "  <tbody>\n",
       "    <tr>\n",
       "      <th>0</th>\n",
       "      <td>Andrew\\nTye</td>\n",
       "      <td>14</td>\n",
       "      <td>56</td>\n",
       "      <td>448</td>\n",
       "      <td>24</td>\n",
       "      <td>18.66</td>\n",
       "      <td>8.00</td>\n",
       "      <td>14.00</td>\n",
       "      <td>3</td>\n",
       "      <td>0</td>\n",
       "    </tr>\n",
       "    <tr>\n",
       "      <th>1</th>\n",
       "      <td>Rashid Khan</td>\n",
       "      <td>17</td>\n",
       "      <td>68</td>\n",
       "      <td>458</td>\n",
       "      <td>21</td>\n",
       "      <td>21.80</td>\n",
       "      <td>6.73</td>\n",
       "      <td>19.42</td>\n",
       "      <td>0</td>\n",
       "      <td>0</td>\n",
       "    </tr>\n",
       "    <tr>\n",
       "      <th>2</th>\n",
       "      <td>Siddarth Kaul</td>\n",
       "      <td>17</td>\n",
       "      <td>66</td>\n",
       "      <td>547</td>\n",
       "      <td>21</td>\n",
       "      <td>26.04</td>\n",
       "      <td>8.28</td>\n",
       "      <td>18.85</td>\n",
       "      <td>0</td>\n",
       "      <td>0</td>\n",
       "    </tr>\n",
       "    <tr>\n",
       "      <th>3</th>\n",
       "      <td>Umesh Yadav</td>\n",
       "      <td>14</td>\n",
       "      <td>53.1</td>\n",
       "      <td>418</td>\n",
       "      <td>20</td>\n",
       "      <td>20.90</td>\n",
       "      <td>7.86</td>\n",
       "      <td>15.95</td>\n",
       "      <td>0</td>\n",
       "      <td>0</td>\n",
       "    </tr>\n",
       "    <tr>\n",
       "      <th>4</th>\n",
       "      <td>Trent Boult</td>\n",
       "      <td>14</td>\n",
       "      <td>52.4</td>\n",
       "      <td>466</td>\n",
       "      <td>18</td>\n",
       "      <td>25.88</td>\n",
       "      <td>8.84</td>\n",
       "      <td>17.55</td>\n",
       "      <td>0</td>\n",
       "      <td>0</td>\n",
       "    </tr>\n",
       "  </tbody>\n",
       "</table>\n",
       "</div>"
      ],
      "text/plain": [
       "          Player Matches Overs Runs Wickets Average Economy    S/R 4w 5w\n",
       "0    Andrew\\nTye      14    56  448      24   18.66    8.00  14.00  3  0\n",
       "1    Rashid Khan      17    68  458      21   21.80    6.73  19.42  0  0\n",
       "2  Siddarth Kaul      17    66  547      21   26.04    8.28  18.85  0  0\n",
       "3    Umesh Yadav      14  53.1  418      20   20.90    7.86  15.95  0  0\n",
       "4    Trent Boult      14  52.4  466      18   25.88    8.84  17.55  0  0"
      ]
     },
     "execution_count": 116,
     "metadata": {},
     "output_type": "execute_result"
    }
   ],
   "source": [
    "most_wickets_details.head(5)"
   ]
  },
  {
   "cell_type": "code",
   "execution_count": 117,
   "metadata": {},
   "outputs": [],
   "source": [
    "most_wickets_details.to_csv('most_wickets_details.csv', sep=',')"
   ]
  },
  {
   "cell_type": "code",
   "execution_count": null,
   "metadata": {},
   "outputs": [],
   "source": []
  },
  {
   "cell_type": "code",
   "execution_count": 120,
   "metadata": {},
   "outputs": [],
   "source": [
    "driver.find_element_by_xpath(\"\"\"//*[@id=\"main-content\"]/div[2]/aside/nav/ul/li[2]/ul/li[15]/a\"\"\").click()"
   ]
  },
  {
   "cell_type": "code",
   "execution_count": 121,
   "metadata": {},
   "outputs": [],
   "source": [
    "most_points_players = driver.find_elements_by_class_name('top-players__player-link')\n",
    "points_players = []\n",
    "\n",
    "for player in most_points_players:\n",
    "    points_players.append(player.text)"
   ]
  },
  {
   "cell_type": "code",
   "execution_count": 123,
   "metadata": {},
   "outputs": [],
   "source": [
    "most_points_matches = driver.find_elements_by_class_name('top-players__m')\n",
    "points_players_matches = []\n",
    "\n",
    "for matches in most_points_matches:\n",
    "    points_players_matches.append(matches.text)"
   ]
  },
  {
   "cell_type": "code",
   "execution_count": 127,
   "metadata": {},
   "outputs": [],
   "source": [
    "most_points_p = driver.find_elements_by_class_name('top-players__pts')\n",
    "most_points = []\n",
    "\n",
    "for points in most_points_p:\n",
    "    most_points.append(points.text)\n"
   ]
  },
  {
   "cell_type": "code",
   "execution_count": 131,
   "metadata": {},
   "outputs": [],
   "source": [
    "most_points_catches = driver.find_elements_by_class_name('top-players__c')\n",
    "points_players_catches = []\n",
    "\n",
    "for catches in most_points_catches:\n",
    "    points_players_catches.append(catches.text)"
   ]
  },
  {
   "cell_type": "code",
   "execution_count": 135,
   "metadata": {},
   "outputs": [],
   "source": [
    "most_points_stumping = driver.find_elements_by_class_name('top-players__s')\n",
    "points_players_stumping = []\n",
    "\n",
    "for stumps in most_points_stumping:\n",
    "    points_players_stumping.append(stumps.text)"
   ]
  },
  {
   "cell_type": "code",
   "execution_count": 139,
   "metadata": {},
   "outputs": [],
   "source": [
    "most_points_details = pd.DataFrame(columns=['Player', 'Matches', 'Points', 'Catches', 'Stumpings'])"
   ]
  },
  {
   "cell_type": "code",
   "execution_count": 140,
   "metadata": {},
   "outputs": [],
   "source": [
    "most_points_details['Player'] = points_players\n",
    "most_points_details['Matches'] = points_players_matches\n",
    "most_points_details['Points'] = most_points\n",
    "most_points_details['Catches'] = points_players_catches\n",
    "most_points_details['Stumpings'] = points_players_stumping"
   ]
  },
  {
   "cell_type": "code",
   "execution_count": 142,
   "metadata": {},
   "outputs": [
    {
     "data": {
      "text/html": [
       "<div>\n",
       "<style scoped>\n",
       "    .dataframe tbody tr th:only-of-type {\n",
       "        vertical-align: middle;\n",
       "    }\n",
       "\n",
       "    .dataframe tbody tr th {\n",
       "        vertical-align: top;\n",
       "    }\n",
       "\n",
       "    .dataframe thead th {\n",
       "        text-align: right;\n",
       "    }\n",
       "</style>\n",
       "<table border=\"1\" class=\"dataframe\">\n",
       "  <thead>\n",
       "    <tr style=\"text-align: right;\">\n",
       "      <th></th>\n",
       "      <th>Player</th>\n",
       "      <th>Matches</th>\n",
       "      <th>Points</th>\n",
       "      <th>Catches</th>\n",
       "      <th>Stumpings</th>\n",
       "    </tr>\n",
       "  </thead>\n",
       "  <tbody>\n",
       "    <tr>\n",
       "      <th>0</th>\n",
       "      <td>Sunil\\nNarine</td>\n",
       "      <td>16</td>\n",
       "      <td>379.5</td>\n",
       "      <td>1</td>\n",
       "      <td>0</td>\n",
       "    </tr>\n",
       "    <tr>\n",
       "      <th>1</th>\n",
       "      <td>Shane Watson</td>\n",
       "      <td>15</td>\n",
       "      <td>318</td>\n",
       "      <td>3</td>\n",
       "      <td>0</td>\n",
       "    </tr>\n",
       "    <tr>\n",
       "      <th>2</th>\n",
       "      <td>Rishabh Pant</td>\n",
       "      <td>14</td>\n",
       "      <td>314.5</td>\n",
       "      <td>4</td>\n",
       "      <td>2</td>\n",
       "    </tr>\n",
       "    <tr>\n",
       "      <th>3</th>\n",
       "      <td>Lokesh Rahul</td>\n",
       "      <td>14</td>\n",
       "      <td>304.5</td>\n",
       "      <td>10</td>\n",
       "      <td>1</td>\n",
       "    </tr>\n",
       "    <tr>\n",
       "      <th>4</th>\n",
       "      <td>Andre Russell</td>\n",
       "      <td>16</td>\n",
       "      <td>292.5</td>\n",
       "      <td>8</td>\n",
       "      <td>0</td>\n",
       "    </tr>\n",
       "  </tbody>\n",
       "</table>\n",
       "</div>"
      ],
      "text/plain": [
       "          Player Matches Points Catches Stumpings\n",
       "0  Sunil\\nNarine      16  379.5       1         0\n",
       "1   Shane Watson      15    318       3         0\n",
       "2   Rishabh Pant      14  314.5       4         2\n",
       "3   Lokesh Rahul      14  304.5      10         1\n",
       "4  Andre Russell      16  292.5       8         0"
      ]
     },
     "execution_count": 142,
     "metadata": {},
     "output_type": "execute_result"
    }
   ],
   "source": [
    "most_points_details.head(5)"
   ]
  },
  {
   "cell_type": "code",
   "execution_count": 143,
   "metadata": {},
   "outputs": [],
   "source": [
    "most_points_details.to_csv('most_points_details.csv', sep = ',')"
   ]
  },
  {
   "cell_type": "code",
   "execution_count": null,
   "metadata": {},
   "outputs": [],
   "source": []
  }
 ],
 "metadata": {
  "kernelspec": {
   "display_name": "Python 3",
   "language": "python",
   "name": "python3"
  },
  "language_info": {
   "codemirror_mode": {
    "name": "ipython",
    "version": 3
   },
   "file_extension": ".py",
   "mimetype": "text/x-python",
   "name": "python",
   "nbconvert_exporter": "python",
   "pygments_lexer": "ipython3",
   "version": "3.6.5"
  }
 },
 "nbformat": 4,
 "nbformat_minor": 2
}
